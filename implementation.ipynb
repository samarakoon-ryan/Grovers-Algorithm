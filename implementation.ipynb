{
  "nbformat": 4,
  "nbformat_minor": 0,
  "metadata": {
    "colab": {
      "provenance": [],
      "toc_visible": true,
      "authorship_tag": "ABX9TyNwaYRkNxhaZf+TWq6ybiO9",
      "include_colab_link": true
    },
    "kernelspec": {
      "name": "python3",
      "display_name": "Python 3"
    },
    "language_info": {
      "name": "python"
    }
  },
  "cells": [
    {
      "cell_type": "markdown",
      "metadata": {
        "id": "view-in-github",
        "colab_type": "text"
      },
      "source": [
        "<a href=\"https://colab.research.google.com/github/samarakoon-ryan/Grovers-Algorithm/blob/implement-quantum-circuit/implementation.ipynb\" target=\"_parent\"><img src=\"https://colab.research.google.com/assets/colab-badge.svg\" alt=\"Open In Colab\"/></a>"
      ]
    },
    {
      "cell_type": "markdown",
      "source": [
        "# Implementation of Grover's Algorithm using IBM Qiskit"
      ],
      "metadata": {
        "id": "laMazYgjeTb7"
      }
    },
    {
      "cell_type": "markdown",
      "source": [
        "## Install Dependencies"
      ],
      "metadata": {
        "id": "VZ_A8dm9s1M9"
      }
    },
    {
      "cell_type": "code",
      "execution_count": null,
      "metadata": {
        "id": "4E5GcGg6eNWs"
      },
      "outputs": [],
      "source": [
        "# pip installs Qiskit\n",
        "pip install git+https://github.com/qiskit-community/qiskit-textbook.git#subdirectory=qiskit-textbook-src"
      ]
    },
    {
      "cell_type": "code",
      "source": [
        "pip install pylatexenc"
      ],
      "metadata": {
        "id": "ABLEhovzss8J",
        "outputId": "45c8aeb2-c781-46ec-c083-196ee473adf8",
        "colab": {
          "base_uri": "https://localhost:8080/"
        }
      },
      "execution_count": 10,
      "outputs": [
        {
          "output_type": "stream",
          "name": "stdout",
          "text": [
            "Looking in indexes: https://pypi.org/simple, https://us-python.pkg.dev/colab-wheels/public/simple/\n",
            "Requirement already satisfied: pylatexenc in /usr/local/lib/python3.7/dist-packages (2.10)\n"
          ]
        }
      ]
    },
    {
      "cell_type": "code",
      "source": [
        "#initialization\n",
        "import matplotlib.pyplot as plt\n",
        "import numpy as np\n",
        "\n",
        "# importing Qiskit\n",
        "from qiskit import IBMQ, Aer, assemble, transpile\n",
        "from qiskit import QuantumCircuit, ClassicalRegister, QuantumRegister\n",
        "from qiskit.providers.ibmq import least_busy\n",
        "\n",
        "# import basic plot tools\n",
        "from qiskit.visualization import plot_histogram"
      ],
      "metadata": {
        "id": "CZQDUGPjgux2"
      },
      "execution_count": 6,
      "outputs": []
    },
    {
      "cell_type": "markdown",
      "source": [
        "## 2 Qubit Example\n",
        "\n",
        "We will be searching for |\n",
        "w\n",
        "⟩\n",
        " [3]"
      ],
      "metadata": {
        "id": "m9NrZG3_qOmM"
      }
    },
    {
      "cell_type": "markdown",
      "source": [
        "### Initialize the state"
      ],
      "metadata": {
        "id": "XRgN0TKorBEw"
      }
    },
    {
      "cell_type": "code",
      "source": [
        "# We prepare a quantum circuit with 2 qubits\n",
        "n = 2\n",
        "grovers_circuit = QuantumCircuit(n)\n",
        "\n",
        "# We then apply an H-gate to each qubit in order for it to get into \n",
        "# a superposition state. The default initial state is |0> so \n",
        "# H|0> = |+>\n",
        "\n",
        "def initialize_superposition(qc, qubits):\n",
        "    \"\"\"Apply an H-gate to 'qubits' in qc\"\"\"\n",
        "    for q in qubits:\n",
        "        qc.h(q)\n",
        "    return qc\n",
        "\n",
        "# The above function is used to initialize our circuit\n",
        "grovers_circuit = initialize_superposition(grovers_circuit, [0,1])\n",
        "grovers_circuit.draw(output='mpl')"
      ],
      "metadata": {
        "id": "4Pja41U1rAFs",
        "outputId": "b3d7b0fd-4824-47e2-9576-07fc5fecb449",
        "colab": {
          "base_uri": "https://localhost:8080/",
          "height": 140
        }
      },
      "execution_count": 7,
      "outputs": [
        {
          "output_type": "execute_result",
          "data": {
            "text/plain": [
              "<Figure size 146.652x144.48 with 1 Axes>"
            ],
            "image/png": "[encoded data removed]"
          },
          "metadata": {},
          "execution_count": 7
        }
      ]
    },
    {
      "cell_type": "markdown",
      "source": [
        "### Oracle\n",
        "\n",
        "- Oracle for  |ω⟩ = |11⟩\n",
        "\n",
        "- This is essentially a controlled Z-gate, so for this example the oracle is simply the controlled Z-gate.\n",
        " "
      ],
      "metadata": {
        "id": "KHrbseNltV86"
      }
    },
    {
      "cell_type": "code",
      "source": [
        "# Apply the Oracle\n",
        "grovers_circuit.cz(0,1) # Z-gate that joins Qubit 0 and Qubit 1\n",
        "grovers_circuit.draw(output='mpl')\n"
      ],
      "metadata": {
        "id": "grF1gRq0taUm",
        "outputId": "84274d27-1a00-4589-d136-b9507ced8e8f",
        "colab": {
          "base_uri": "https://localhost:8080/",
          "height": 140
        }
      },
      "execution_count": 8,
      "outputs": [
        {
          "output_type": "execute_result",
          "data": {
            "text/plain": [
              "<Figure size 206.852x144.48 with 1 Axes>"
            ],
            "image/png": "[encoded data removed]"
          },
          "metadata": {},
          "execution_count": 8
        }
      ]
    },
    {
      "cell_type": "markdown",
      "source": [
        "### Diffuser\n",
        "\n",
        "- We will apply the diffusion operator to both qubits.\n",
        "- This includes an H-gate, Z-gate, controlled Z-gate, and another H-gate."
      ],
      "metadata": {
        "id": "GcrVaJk8u4nA"
      }
    },
    {
      "cell_type": "code",
      "source": [
        "# Diffusion operator\n",
        "grovers_circuit.h([0,1])\n",
        "grovers_circuit.z([0,1])\n",
        "grovers_circuit.cz(0,1)\n",
        "grovers_circuit.h([0,1])\n",
        "grovers_circuit.draw(output='mpl')"
      ],
      "metadata": {
        "id": "7FUG_nYWvZRG",
        "outputId": "f51f071a-4a77-4c26-dedd-9842df53159b",
        "colab": {
          "base_uri": "https://localhost:8080/",
          "height": 140
        }
      },
      "execution_count": 9,
      "outputs": [
        {
          "output_type": "execute_result",
          "data": {
            "text/plain": [
              "<Figure size 447.652x144.48 with 1 Axes>"
            ],
            "image/png": "[encoded data removed]"
          },
          "metadata": {},
          "execution_count": 9
        }
      ]
    },
    {
      "cell_type": "markdown",
      "source": [
        "This is the finished circuit!"
      ],
      "metadata": {
        "id": "ksyeOPTCv6Au"
      }
    }
  ]
}